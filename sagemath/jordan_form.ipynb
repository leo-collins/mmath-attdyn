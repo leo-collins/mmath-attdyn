{
 "cells": [
  {
   "cell_type": "code",
   "execution_count": 1,
   "id": "371e6991",
   "metadata": {},
   "outputs": [
    {
     "data": {
      "text/plain": [
       "(a, b, c, d, d1, d2, α, ε)"
      ]
     },
     "execution_count": 1,
     "metadata": {},
     "output_type": "execute_result"
    }
   ],
   "source": [
    "var(\"a b c d d1 d2 α ε\", domain=\"real\")"
   ]
  },
  {
   "cell_type": "code",
   "execution_count": 2,
   "id": "822848be",
   "metadata": {},
   "outputs": [],
   "source": [
    "assume(a+d<0, a*d-b*c>0, a<0, d>0, b*c<0)"
   ]
  },
  {
   "cell_type": "code",
   "execution_count": 3,
   "id": "4a140227",
   "metadata": {},
   "outputs": [],
   "source": [
    "assume((a+d)^2-4*(a*d-b*c)<0)"
   ]
  },
  {
   "cell_type": "code",
   "execution_count": 4,
   "id": "738c58ba",
   "metadata": {},
   "outputs": [],
   "source": [
    "assume(d1>0, d2>0, α>0, ε>0)"
   ]
  },
  {
   "cell_type": "code",
   "execution_count": 5,
   "id": "8af42145",
   "metadata": {},
   "outputs": [],
   "source": [
    "J = matrix([[a-2*d1, b, 0],[c, d-2*d2, 0],[0,0,-α*ε^2]])"
   ]
  },
  {
   "cell_type": "code",
   "execution_count": 6,
   "id": "9bf4ef7c",
   "metadata": {},
   "outputs": [
    {
     "data": {
      "text/plain": [
       "[1/2*a + 1/2*d - d1 - d2 - 1/2*sqrt(a^2 + 4*b*c - 2*a*d + d^2 - 4*(a - d)*d1 + 4*d1^2 + 4*(a - d - 2*d1)*d2 + 4*d2^2)                                                                                                                    0                                                                                                                    0]\n",
       "[                                                                                                                   0 1/2*a + 1/2*d - d1 - d2 + 1/2*sqrt(a^2 + 4*b*c - 2*a*d + d^2 - 4*(a - d)*d1 + 4*d1^2 + 4*(a - d - 2*d1)*d2 + 4*d2^2)                                                                                                                    0]\n",
       "[                                                                                                                   0                                                                                                                    0                                                                                                               -α*ε^2]"
      ]
     },
     "execution_count": 6,
     "metadata": {},
     "output_type": "execute_result"
    }
   ],
   "source": [
    "J.jordan_form(subdivide=False)"
   ]
  },
  {
   "cell_type": "code",
   "execution_count": 13,
   "id": "52c47a2a",
   "metadata": {},
   "outputs": [],
   "source": [
    "A = matrix([[a, b, 0], [c, d, 0], [0, 0, α*ε^2]])"
   ]
  },
  {
   "cell_type": "code",
   "execution_count": 14,
   "id": "d0c53716",
   "metadata": {},
   "outputs": [
    {
     "data": {
      "text/plain": [
       "[1/2*a + 1/2*d - 1/2*sqrt(a^2 + 4*b*c - 2*a*d + d^2)                                                   0                                                   0]\n",
       "[                                                  0 1/2*a + 1/2*d + 1/2*sqrt(a^2 + 4*b*c - 2*a*d + d^2)                                                   0]\n",
       "[                                                  0                                                   0                                               α*ε^2]"
      ]
     },
     "execution_count": 14,
     "metadata": {},
     "output_type": "execute_result"
    }
   ],
   "source": [
    "A.jordan_form(subdivide=False).simplify_rational()"
   ]
  },
  {
   "cell_type": "code",
   "execution_count": null,
   "id": "44f19885",
   "metadata": {},
   "outputs": [],
   "source": [
    "sqrt(a^2 + 4*b*c - 2*a*d + d^2).canonicalize_radical()"
   ]
  },
  {
   "cell_type": "code",
   "execution_count": null,
   "id": "f18b3851",
   "metadata": {},
   "outputs": [],
   "source": [
    "A.diagonalization()"
   ]
  },
  {
   "cell_type": "code",
   "execution_count": null,
   "id": "a9d49413",
   "metadata": {},
   "outputs": [],
   "source": [
    "assumptions()"
   ]
  },
  {
   "cell_type": "code",
   "execution_count": null,
   "id": "b6410dcd",
   "metadata": {},
   "outputs": [],
   "source": [
    "sqrt(a^2 + 4*b*c - 2*a*d + d^2).real()"
   ]
  },
  {
   "cell_type": "code",
   "execution_count": null,
   "id": "ad372ed0",
   "metadata": {},
   "outputs": [],
   "source": [
    "(1/2*a + 1/2*d - d1 - d2 - 1/2*sqrt(a^2 + 4*b*c - 2*a*d + d^2 - 4*(a - d)*d1 + 4*d1^2 + 4*(a - d - 2*d1)*d2 + 4*d2^2)).is_real()"
   ]
  },
  {
   "cell_type": "code",
   "execution_count": 7,
   "id": "cc03c48b",
   "metadata": {},
   "outputs": [
    {
     "data": {
      "text/plain": [
       "False"
      ]
     },
     "execution_count": 7,
     "metadata": {},
     "output_type": "execute_result"
    }
   ],
   "source": [
    "sqrt(a^2 + 4*b*c - 2*a*d + d^2 - 4*(a - d)*d1 + 4*d1^2 + 4*(a - d - 2*d1)*d2 + 4*d2^2).is_real()"
   ]
  },
  {
   "cell_type": "code",
   "execution_count": 22,
   "id": "a2222e2e",
   "metadata": {},
   "outputs": [
    {
     "data": {
      "text/plain": [
       "-4.11061435487370"
      ]
     },
     "execution_count": 22,
     "metadata": {},
     "output_type": "execute_result"
    }
   ],
   "source": [
    "(1/2*a + 1/2*d - d1 - d2 - 1/2*sqrt(a^2 + 4*b*c - 2*a*d + d^2 - 4*(a - d)*d1 + 4*d1^2 + 4*(a - d - 2*d1)*d2 + 4*d2^2)).subs(a=-1.1, b=-2, c=1, d=1, \n",
    "                                                                                        d1=1.719, d2=0.2155)"
   ]
  },
  {
   "cell_type": "code",
   "execution_count": 15,
   "id": "7cf9a7bd",
   "metadata": {},
   "outputs": [
    {
     "data": {
      "text/plain": [
       "-3.59000000000000"
      ]
     },
     "execution_count": 15,
     "metadata": {},
     "output_type": "execute_result"
    }
   ],
   "source": [
    "(a^2 + 4*b*c - 2*a*d + d^2).subs(a=-1.1, b=-2, c=1, d=1)"
   ]
  },
  {
   "cell_type": "code",
   "execution_count": 19,
   "id": "44a48139",
   "metadata": {},
   "outputs": [
    {
     "data": {
      "text/plain": [
       "4*(a - d)*d1 + 4*d1^2 + 4*(a - d - 2*d1)*d2 + 4*d2^2"
      ]
     },
     "execution_count": 19,
     "metadata": {},
     "output_type": "execute_result"
    }
   ],
   "source": [
    "(4*(a - d)*d1 + 4*d1^2 + 4*(a - d - 2*d1)*d2 + 4*d2^2).full_simplify()"
   ]
  },
  {
   "cell_type": "code",
   "execution_count": null,
   "id": "8eec785c",
   "metadata": {},
   "outputs": [],
   "source": []
  }
 ],
 "metadata": {
  "kernelspec": {
   "display_name": "SageMath 9.5",
   "language": "sage",
   "name": "sagemath"
  },
  "language_info": {
   "codemirror_mode": {
    "name": "ipython",
    "version": 3
   },
   "file_extension": ".py",
   "mimetype": "text/x-python",
   "name": "python",
   "nbconvert_exporter": "python",
   "pygments_lexer": "ipython3",
   "version": "3.10.12"
  }
 },
 "nbformat": 4,
 "nbformat_minor": 5
}

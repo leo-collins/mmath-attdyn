{
 "cells": [
  {
   "cell_type": "code",
   "execution_count": 1,
   "id": "ba4d2734",
   "metadata": {},
   "outputs": [
    {
     "data": {
      "text/plain": [
       "(a, b, c, d, A, y, d1, d2, α, ε, y, x)"
      ]
     },
     "execution_count": 1,
     "metadata": {},
     "output_type": "execute_result"
    }
   ],
   "source": [
    "var(\"a,b,c,d,A,y,d1,d2,α,ε,y,x\")"
   ]
  },
  {
   "cell_type": "code",
   "execution_count": 2,
   "id": "69bcd1a0",
   "metadata": {},
   "outputs": [],
   "source": [
    "f(x)=(d2/d1)*x^3 + (ε - (b*d)/(ε*d1))*x^2 + (d - a*(d1/d2))*x + c*ε"
   ]
  },
  {
   "cell_type": "code",
   "execution_count": 3,
   "id": "b37022d9",
   "metadata": {},
   "outputs": [
    {
     "data": {
      "text/plain": [
       "[x == -1/18*(-I*sqrt(3) + 1)*(3*(a*d1^2 - d*d1*d2)/d2^2 + (d1*ε^2 - b*d)^2/(d2^2*ε^2))/(-1/2*c*d1*ε/d2 - 1/6*(a*d1^2 - d*d1*d2)*(d1*ε^2 - b*d)/(d2^3*ε) - 1/27*(d1*ε^2 - b*d)^3/(d2^3*ε^3) + 1/6*sqrt(1/3)*sqrt((4*c*d1^3*d2^2*ε^6 - a^2*b^2*d^2*d1^3 + 2*a*b^2*d^3*d1^2*d2 - (a^2*d1^5 - 2*a*d*d1^4*d2 + 18*c*d*d1^2*d2^3 - 27*c^2*d1*d2^4 + (12*b*c*d*d1^2 - (18*a*c - d^2)*d1^3)*d2^2)*ε^4 - (4*b^3*c*d^3 + b^2*d^4*d1)*d2^2 + 2*(a^2*b*d*d1^4 - 2*a^3*d1^5 + (9*b*c*d^2*d1 + 2*d^3*d1^2)*d2^3 + (6*b^2*c*d^2*d1 - 6*a*d^2*d1^3 - (9*a*b*c*d - b*d^3)*d1^2)*d2^2 - 2*(a*b*d^2*d1^3 - 3*a^2*d*d1^4)*d2)*ε^2)*d1)/(d2^3*ε))^(1/3) - 1/2*(-1/2*c*d1*ε/d2 - 1/6*(a*d1^2 - d*d1*d2)*(d1*ε^2 - b*d)/(d2^3*ε) - 1/27*(d1*ε^2 - b*d)^3/(d2^3*ε^3) + 1/6*sqrt(1/3)*sqrt((4*c*d1^3*d2^2*ε^6 - a^2*b^2*d^2*d1^3 + 2*a*b^2*d^3*d1^2*d2 - (a^2*d1^5 - 2*a*d*d1^4*d2 + 18*c*d*d1^2*d2^3 - 27*c^2*d1*d2^4 + (12*b*c*d*d1^2 - (18*a*c - d^2)*d1^3)*d2^2)*ε^4 - (4*b^3*c*d^3 + b^2*d^4*d1)*d2^2 + 2*(a^2*b*d*d1^4 - 2*a^3*d1^5 + (9*b*c*d^2*d1 + 2*d^3*d1^2)*d2^3 + (6*b^2*c*d^2*d1 - 6*a*d^2*d1^3 - (9*a*b*c*d - b*d^3)*d1^2)*d2^2 - 2*(a*b*d^2*d1^3 - 3*a^2*d*d1^4)*d2)*ε^2)*d1)/(d2^3*ε))^(1/3)*(I*sqrt(3) + 1) - 1/3*(d1*ε^2 - b*d)/(d2*ε), x == -1/18*(I*sqrt(3) + 1)*(3*(a*d1^2 - d*d1*d2)/d2^2 + (d1*ε^2 - b*d)^2/(d2^2*ε^2))/(-1/2*c*d1*ε/d2 - 1/6*(a*d1^2 - d*d1*d2)*(d1*ε^2 - b*d)/(d2^3*ε) - 1/27*(d1*ε^2 - b*d)^3/(d2^3*ε^3) + 1/6*sqrt(1/3)*sqrt((4*c*d1^3*d2^2*ε^6 - a^2*b^2*d^2*d1^3 + 2*a*b^2*d^3*d1^2*d2 - (a^2*d1^5 - 2*a*d*d1^4*d2 + 18*c*d*d1^2*d2^3 - 27*c^2*d1*d2^4 + (12*b*c*d*d1^2 - (18*a*c - d^2)*d1^3)*d2^2)*ε^4 - (4*b^3*c*d^3 + b^2*d^4*d1)*d2^2 + 2*(a^2*b*d*d1^4 - 2*a^3*d1^5 + (9*b*c*d^2*d1 + 2*d^3*d1^2)*d2^3 + (6*b^2*c*d^2*d1 - 6*a*d^2*d1^3 - (9*a*b*c*d - b*d^3)*d1^2)*d2^2 - 2*(a*b*d^2*d1^3 - 3*a^2*d*d1^4)*d2)*ε^2)*d1)/(d2^3*ε))^(1/3) - 1/2*(-1/2*c*d1*ε/d2 - 1/6*(a*d1^2 - d*d1*d2)*(d1*ε^2 - b*d)/(d2^3*ε) - 1/27*(d1*ε^2 - b*d)^3/(d2^3*ε^3) + 1/6*sqrt(1/3)*sqrt((4*c*d1^3*d2^2*ε^6 - a^2*b^2*d^2*d1^3 + 2*a*b^2*d^3*d1^2*d2 - (a^2*d1^5 - 2*a*d*d1^4*d2 + 18*c*d*d1^2*d2^3 - 27*c^2*d1*d2^4 + (12*b*c*d*d1^2 - (18*a*c - d^2)*d1^3)*d2^2)*ε^4 - (4*b^3*c*d^3 + b^2*d^4*d1)*d2^2 + 2*(a^2*b*d*d1^4 - 2*a^3*d1^5 + (9*b*c*d^2*d1 + 2*d^3*d1^2)*d2^3 + (6*b^2*c*d^2*d1 - 6*a*d^2*d1^3 - (9*a*b*c*d - b*d^3)*d1^2)*d2^2 - 2*(a*b*d^2*d1^3 - 3*a^2*d*d1^4)*d2)*ε^2)*d1)/(d2^3*ε))^(1/3)*(-I*sqrt(3) + 1) - 1/3*(d1*ε^2 - b*d)/(d2*ε), x == 1/9*(3*(a*d1^2 - d*d1*d2)/d2^2 + (d1*ε^2 - b*d)^2/(d2^2*ε^2))/(-1/2*c*d1*ε/d2 - 1/6*(a*d1^2 - d*d1*d2)*(d1*ε^2 - b*d)/(d2^3*ε) - 1/27*(d1*ε^2 - b*d)^3/(d2^3*ε^3) + 1/6*sqrt(1/3)*sqrt((4*c*d1^3*d2^2*ε^6 - a^2*b^2*d^2*d1^3 + 2*a*b^2*d^3*d1^2*d2 - (a^2*d1^5 - 2*a*d*d1^4*d2 + 18*c*d*d1^2*d2^3 - 27*c^2*d1*d2^4 + (12*b*c*d*d1^2 - (18*a*c - d^2)*d1^3)*d2^2)*ε^4 - (4*b^3*c*d^3 + b^2*d^4*d1)*d2^2 + 2*(a^2*b*d*d1^4 - 2*a^3*d1^5 + (9*b*c*d^2*d1 + 2*d^3*d1^2)*d2^3 + (6*b^2*c*d^2*d1 - 6*a*d^2*d1^3 - (9*a*b*c*d - b*d^3)*d1^2)*d2^2 - 2*(a*b*d^2*d1^3 - 3*a^2*d*d1^4)*d2)*ε^2)*d1)/(d2^3*ε))^(1/3) + (-1/2*c*d1*ε/d2 - 1/6*(a*d1^2 - d*d1*d2)*(d1*ε^2 - b*d)/(d2^3*ε) - 1/27*(d1*ε^2 - b*d)^3/(d2^3*ε^3) + 1/6*sqrt(1/3)*sqrt((4*c*d1^3*d2^2*ε^6 - a^2*b^2*d^2*d1^3 + 2*a*b^2*d^3*d1^2*d2 - (a^2*d1^5 - 2*a*d*d1^4*d2 + 18*c*d*d1^2*d2^3 - 27*c^2*d1*d2^4 + (12*b*c*d*d1^2 - (18*a*c - d^2)*d1^3)*d2^2)*ε^4 - (4*b^3*c*d^3 + b^2*d^4*d1)*d2^2 + 2*(a^2*b*d*d1^4 - 2*a^3*d1^5 + (9*b*c*d^2*d1 + 2*d^3*d1^2)*d2^3 + (6*b^2*c*d^2*d1 - 6*a*d^2*d1^3 - (9*a*b*c*d - b*d^3)*d1^2)*d2^2 - 2*(a*b*d^2*d1^3 - 3*a^2*d*d1^4)*d2)*ε^2)*d1)/(d2^3*ε))^(1/3) - 1/3*(d1*ε^2 - b*d)/(d2*ε)]"
      ]
     },
     "execution_count": 3,
     "metadata": {},
     "output_type": "execute_result"
    }
   ],
   "source": [
    "f.solve(x)"
   ]
  },
  {
   "cell_type": "code",
   "execution_count": 4,
   "id": "9cae1b32",
   "metadata": {},
   "outputs": [],
   "source": [
    "ystar = 1/9*(3*(a*d1^2 - d*d1*d2)/d2^2 + (d1*ε^2 - b*d)^2/(d2^2*ε^2))/(-1/2*c*d1*ε/d2 - 1/6*(a*d1^2 - d*d1*d2)*(d1*ε^2 - b*d)/(d2^3*ε) - 1/27*(d1*ε^2 - b*d)^3/(d2^3*ε^3) + 1/6*sqrt(1/3)*sqrt((4*c*d1^3*d2^2*ε^6 - a^2*b^2*d^2*d1^3 + 2*a*b^2*d^3*d1^2*d2 - (a^2*d1^5 - 2*a*d*d1^4*d2 + 18*c*d*d1^2*d2^3 - 27*c^2*d1*d2^4 + (12*b*c*d*d1^2 - (18*a*c - d^2)*d1^3)*d2^2)*ε^4 - (4*b^3*c*d^3 + b^2*d^4*d1)*d2^2 + 2*(a^2*b*d*d1^4 - 2*a^3*d1^5 + (9*b*c*d^2*d1 + 2*d^3*d1^2)*d2^3 + (6*b^2*c*d^2*d1 - 6*a*d^2*d1^3 - (9*a*b*c*d - b*d^3)*d1^2)*d2^2 - 2*(a*b*d^2*d1^3 - 3*a^2*d*d1^4)*d2)*ε^2)*d1)/(d2^3*ε))^(1/3) + (-1/2*c*d1*ε/d2 - 1/6*(a*d1^2 - d*d1*d2)*(d1*ε^2 - b*d)/(d2^3*ε) - 1/27*(d1*ε^2 - b*d)^3/(d2^3*ε^3) + 1/6*sqrt(1/3)*sqrt((4*c*d1^3*d2^2*ε^6 - a^2*b^2*d^2*d1^3 + 2*a*b^2*d^3*d1^2*d2 - (a^2*d1^5 - 2*a*d*d1^4*d2 + 18*c*d*d1^2*d2^3 - 27*c^2*d1*d2^4 + (12*b*c*d*d1^2 - (18*a*c - d^2)*d1^3)*d2^2)*ε^4 - (4*b^3*c*d^3 + b^2*d^4*d1)*d2^2 + 2*(a^2*b*d*d1^4 - 2*a^3*d1^5 + (9*b*c*d^2*d1 + 2*d^3*d1^2)*d2^3 + (6*b^2*c*d^2*d1 - 6*a*d^2*d1^3 - (9*a*b*c*d - b*d^3)*d1^2)*d2^2 - 2*(a*b*d^2*d1^3 - 3*a^2*d*d1^4)*d2)*ε^2)*d1)/(d2^3*ε))^(1/3) - 1/3*(d1*ε^2 - b*d)/(d2*ε)"
   ]
  },
  {
   "cell_type": "code",
   "execution_count": 5,
   "id": "1a8bdbbe",
   "metadata": {},
   "outputs": [],
   "source": [
    "Astar = (a*ε + b*ystar - ε*ystar^2)/(2*d1*ε)"
   ]
  },
  {
   "cell_type": "code",
   "execution_count": 14,
   "id": "b714b2bc",
   "metadata": {},
   "outputs": [],
   "source": [
    "J = matrix([[a-2*d1*A-y^2, b-2*ε*y, -2*d1*ε],[c+y^2, d-2*d2*A+2*ε*y, -2*d2*y],[-2*α*ε*(1-A),0,0]])"
   ]
  },
  {
   "cell_type": "code",
   "execution_count": 15,
   "id": "0078baec",
   "metadata": {},
   "outputs": [
    {
     "data": {
      "text/plain": [
       "[  -2*A*d1 - y^2 + a          -2*y*ε + b             -2*d1*ε]\n",
       "[            y^2 + c -2*A*d2 + 2*y*ε + d             -2*d2*y]\n",
       "[      2*(A - 1)*α*ε                   0                   0]"
      ]
     },
     "execution_count": 15,
     "metadata": {},
     "output_type": "execute_result"
    }
   ],
   "source": [
    "J"
   ]
  },
  {
   "cell_type": "code",
   "execution_count": 19,
   "id": "2d5f5e44",
   "metadata": {},
   "outputs": [
    {
     "data": {
      "text/plain": [
       "x^3 + (2*A*d1 + 2*A*d2 + y^2 - 2*y*ε - a - d)*x^2 + (4*A*d1*α*ε^2 + 4*A^2*d1*d2 + 2*A*d2*y^2 - 4*A*d1*y*ε - 4*d1*α*ε^2 - 2*A*d*d1 - 2*A*a*d2 - b*y^2 - d*y^2 + 2*a*y*ε + 2*c*y*ε - b*c + a*d)*x + 8*A^2*d1*d2*α*ε^2 - 8*A*d2*y^2*α*ε^2 - 8*A*d1*y*α*ε^3 + 4*A*b*d2*y*α*ε - 4*A*d*d1*α*ε^2 - 8*A*d1*d2*α*ε^2 + 8*d2*y^2*α*ε^2 + 8*d1*y*α*ε^3 - 4*b*d2*y*α*ε + 4*d*d1*α*ε^2"
      ]
     },
     "execution_count": 19,
     "metadata": {},
     "output_type": "execute_result"
    }
   ],
   "source": [
    "J.characteristic_polynomial()"
   ]
  },
  {
   "cell_type": "code",
   "execution_count": 28,
   "id": "3f36ff4a",
   "metadata": {},
   "outputs": [],
   "source": [
    "C1 = 2*A*d1 + 2*A*d2 + y^2 - 2*y*ε - a - d"
   ]
  },
  {
   "cell_type": "code",
   "execution_count": 29,
   "id": "9b2931f1",
   "metadata": {},
   "outputs": [],
   "source": [
    "C2 = 4*A*d1*α*ε^2 + 4*A^2*d1*d2 + 2*A*d2*y^2 - 4*A*d1*y*ε - 4*d1*α*ε^2 - 2*A*d*d1 - 2*A*a*d2 - b*y^2 - d*y^2 + 2*a*y*ε + 2*c*y*ε - b*c + a*d"
   ]
  },
  {
   "cell_type": "code",
   "execution_count": 64,
   "id": "94fb566f",
   "metadata": {},
   "outputs": [],
   "source": [
    "C3 = 4*(2*A*d1*d2*ε - 2*d2*y^2*ε - 2*d1*y*ε^2 + b*d2*y - d*d1*ε)*(A - 1)*α*ε"
   ]
  },
  {
   "cell_type": "code",
   "execution_count": 65,
   "id": "4b9f1e7d",
   "metadata": {},
   "outputs": [
    {
     "data": {
      "text/plain": [
       "α == -1/4*(4*A^2*d1*d2 + 2*A*d2*y^2 - 4*A*d1*y*ε - 2*A*d*d1 - 2*A*a*d2 - b*y^2 - d*y^2 + 2*a*y*ε + 2*c*y*ε - b*c + a*d)*(2*A*d1 + 2*A*d2 + y^2 - 2*y*ε - a - d)/((2*A*d1^2*ε + d1*y^2*ε + 2*d2*y^2*ε - b*d2*y - a*d1*ε)*(A - 1)*ε)"
      ]
     },
     "execution_count": 65,
     "metadata": {},
     "output_type": "execute_result"
    }
   ],
   "source": [
    "(solve(C1*C2==C3, α)[0].factor())"
   ]
  },
  {
   "cell_type": "code",
   "execution_count": 66,
   "id": "2900c613",
   "metadata": {},
   "outputs": [
    {
     "data": {
      "text/plain": [
       "4 \\, A^{2} d_{1} d_{2} + 2 \\, A d_{2} y^{2} - 4 \\, A d_{1} y ε - 2 \\, A d d_{1} - 2 \\, A a d_{2} - b y^{2} - d y^{2} + 2 \\, a y ε + 2 \\, c y ε - b c + a d"
      ]
     },
     "execution_count": 66,
     "metadata": {},
     "output_type": "execute_result"
    }
   ],
   "source": [
    "latex(4*A^2*d1*d2 + 2*A*d2*y^2 - 4*A*d1*y*ε - 2*A*d*d1 - 2*A*a*d2 - b*y^2 - d*y^2 + 2*a*y*ε + 2*c*y*ε - b*c + a*d)"
   ]
  },
  {
   "cell_type": "code",
   "execution_count": 57,
   "id": "3906ac5e",
   "metadata": {},
   "outputs": [
    {
     "data": {
      "text/plain": [
       "2*(2*A*d1*d2 + d2*y^2 - 2*d1*y*ε - d*d1 - a*d2)*A"
      ]
     },
     "execution_count": 57,
     "metadata": {},
     "output_type": "execute_result"
    }
   ],
   "source": [
    "(4*A^2*d1*d2 + 2*A*d2*y^2 - 4*A*d1*y*ε - 2*A*d*d1 - 2*A*a*d2).factor()"
   ]
  },
  {
   "cell_type": "code",
   "execution_count": 63,
   "id": "cd474afe",
   "metadata": {},
   "outputs": [
    {
     "data": {
      "text/plain": [
       "4*(2*A*d1*d2*ε - 2*d2*y^2*ε - 2*d1*y*ε^2 + b*d2*y - d*d1*ε)*(A - 1)*α*ε"
      ]
     },
     "execution_count": 63,
     "metadata": {},
     "output_type": "execute_result"
    }
   ],
   "source": [
    "(8*A^2*d1*d2*α*ε^2 - 8*A*d2*y^2*α*ε^2 - 8*A*d1*y*α*ε^3 + 4*A*b*d2*y*α*ε - 4*A*d*d1*α*ε^2 - 8*A*d1*d2*α*ε^2 + 8*d2*y^2*α*ε^2 + 8*d1*y*α*ε^3 - 4*b*d2*y*α*ε + 4*d*d1*α*ε^2).factor()"
   ]
  },
  {
   "cell_type": "code",
   "execution_count": 67,
   "id": "9c1a9ea4",
   "metadata": {},
   "outputs": [
    {
     "data": {
      "text/plain": [
       "2*A*d1*d2*ε - 2*d2*y^2*ε - 2*d1*y*ε^2 + b*d2*y - d*d1*ε"
      ]
     },
     "execution_count": 67,
     "metadata": {},
     "output_type": "execute_result"
    }
   ],
   "source": [
    "(2*A*d1*d2*ε - 2*d2*y^2*ε - 2*d1*y*ε^2 + b*d2*y - d*d1*ε).factor()"
   ]
  },
  {
   "cell_type": "code",
   "execution_count": null,
   "id": "e366c4af",
   "metadata": {},
   "outputs": [],
   "source": []
  }
 ],
 "metadata": {
  "kernelspec": {
   "display_name": "SageMath 9.5",
   "language": "sage",
   "name": "sagemath"
  },
  "language_info": {
   "codemirror_mode": {
    "name": "ipython",
    "version": 3
   },
   "file_extension": ".py",
   "mimetype": "text/x-python",
   "name": "python",
   "nbconvert_exporter": "python",
   "pygments_lexer": "ipython3",
   "version": "3.10.12"
  }
 },
 "nbformat": 4,
 "nbformat_minor": 5
}
